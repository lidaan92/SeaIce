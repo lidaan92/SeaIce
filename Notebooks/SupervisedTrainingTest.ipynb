{
 "cells": [
  {
   "cell_type": "markdown",
   "metadata": {},
   "source": [
    "## Exploring the training of sea ice image classification\n",
    "\n",
    "As part of the 2016 XSEDE Polar Hackathon. \n",
    "\n",
    "Contributing authors: Alek Petty, Andrew Barrett, Xin Miao, Phil McDowell, Vivek Balasubramanian"
   ]
  },
  {
   "cell_type": "code",
   "execution_count": 85,
   "metadata": {
    "collapsed": false
   },
   "outputs": [],
   "source": [
    "%matplotlib inline\n",
    "from pylab import *\n",
    "\n",
    "# XIN'S Training dataset\n",
    "labelsFeatures=loadtxt('../Data/TrainingLocation022.csv', skiprows=1, delimiter=',')\n",
    "labelsFeatures[0]\n",
    "pIndex=labelsFeatures[:, 2]\n",
    "\n",
    "featureData=loadtxt('../Data/features022.txt', delimiter=',')"
   ]
  },
  {
   "cell_type": "code",
   "execution_count": 86,
   "metadata": {
    "collapsed": false
   },
   "outputs": [
    {
     "data": {
      "text/plain": [
       "(7, 46)"
      ]
     },
     "execution_count": 86,
     "metadata": {},
     "output_type": "execute_result"
    }
   ],
   "source": [
    "a=np.zeros((7, size(pIndex)))\n",
    "for x in xrange(size(pIndex)):\n",
    "    # Minus 1 as first index was bad. Might not need this.\n",
    "    a[0:6, x]=featureData[int(pIndex[x])-1, :]\n",
    "    a[6, x]=labelsFeatures[x, 3]\n",
    "a.shape"
   ]
  },
  {
   "cell_type": "code",
   "execution_count": 87,
   "metadata": {
    "collapsed": false
   },
   "outputs": [
    {
     "data": {
      "text/plain": [
       "(7, 10)"
      ]
     },
     "execution_count": 87,
     "metadata": {},
     "output_type": "execute_result"
    }
   ],
   "source": [
    "class1 = a[:,where(a[6]==1)[0]]\n",
    "class2 = a[:,where(a[6]==2)[0]]\n",
    "class3 = a[:,where(a[6]==3)[0]]\n",
    "class4 = a[:,where(a[6]==4)[0]]\n",
    "class1.shape"
   ]
  },
  {
   "cell_type": "code",
   "execution_count": 91,
   "metadata": {
    "collapsed": false
   },
   "outputs": [
    {
     "data": {
      "image/png": "[encoded data removed]",
      "text/plain": [
       "<matplotlib.figure.Figure at 0x10d47fbd0>"
      ]
     },
     "metadata": {},
     "output_type": "display_data"
    }
   ],
   "source": [
    "fig = figure(figsize=(7,3))\n",
    "ax=gca()\n",
    "ax.fill_between(np.arange(0.5, 3.5, 1), amin(class1[0:3], axis=1), \n",
    "                amax(class1[0:3], axis=1), alpha=0.2, edgecolor='k', facecolor='k')\n",
    "ax.fill_between(np.arange(0.5, 3.5, 1), amin(class2[0:3], axis=1), \n",
    "                amax(class2[0:3], axis=1), alpha=0.2, edgecolor='m', facecolor='m')\n",
    "ax.fill_between(np.arange(0.5, 3.5, 1), amin(class3[0:3], axis=1), \n",
    "                amax(class3[0:3], axis=1), alpha=0.2, edgecolor='y', facecolor='y')\n",
    "ax.fill_between(np.arange(0.5, 3.5, 1), amin(class4[0:3], axis=1), \n",
    "                amax(class4[0:3], axis=1), alpha=0.2, edgecolor='c', facecolor='c')\n",
    "\n",
    "ax.set_xlim(0.45, 2.55)\n",
    "ax.set_xticks([0.5, 1.5, 2.5])\n",
    "ax.set_xticklabels(['red', 'green', 'blue'])\n",
    "ax.set_ylabel('BV')\n",
    "ax.set_xlabel('Spectral band')\n",
    "\n",
    "subplots_adjust( right = 0.97, left = 0.08, top=0.97, bottom=0.135, wspace=0.06, hspace=0.09)\n",
    "plt.show()\n",
    "#savefig('./training.png', dpi=300)\n"
   ]
  },
  {
   "cell_type": "code",
   "execution_count": 92,
   "metadata": {
    "collapsed": false
   },
   "outputs": [
    {
     "data": {
      "image/png": "[encoded data removed]",
      "text/plain": [
       "<matplotlib.figure.Figure at 0x10d47fe50>"
      ]
     },
     "metadata": {},
     "output_type": "display_data"
    }
   ],
   "source": [
    "fig = figure(figsize=(14,3))\n",
    "ax=gca()\n",
    "ax.fill_between(np.arange(0.5, 3.5, 1), amin(class1[3:6], axis=1), \n",
    "                amax(class1[3:6], axis=1), alpha=0.2, edgecolor='k', facecolor='k')\n",
    "ax.fill_between(np.arange(0.5, 3.5, 1), amin(class2[3:6], axis=1), \n",
    "                amax(class2[3:6], axis=1), alpha=0.2, edgecolor='m', facecolor='m')\n",
    "ax.fill_between(np.arange(0.5, 3.5, 1), amin(class3[3:6], axis=1), \n",
    "                amax(class3[3:6], axis=1), alpha=0.2, edgecolor='y', facecolor='y')\n",
    "ax.fill_between(np.arange(0.5, 3.5, 1), amin(class4[3:6], axis=1), \n",
    "                amax(class4[3:6], axis=1), alpha=0.2, edgecolor='c', facecolor='c')\n",
    "\n",
    "ax.set_xlim(0.45, 2.55)\n",
    "ax.set_xticks([0.5, 1.5, 2.5])\n",
    "ax.set_xticklabels(['R1','R2','R3' ])\n",
    "ax.set_ylabel('BV')\n",
    "#ax.set_xlabel('Spectral band')\n",
    "\n",
    "subplots_adjust( right = 0.97, left = 0.08, top=0.97, bottom=0.135, wspace=0.06, hspace=0.09)\n",
    "plt.show()\n",
    "#savefig('./training.png', dpi=300)"
   ]
  },
  {
   "cell_type": "code",
   "execution_count": null,
   "metadata": {
    "collapsed": true
   },
   "outputs": [],
   "source": [
    "# ADD PLOT OF IMPORTANCE"
   ]
  }
 ],
 "metadata": {
  "kernelspec": {
   "display_name": "Python 2",
   "language": "python",
   "name": "python2"
  },
  "language_info": {
   "codemirror_mode": {
    "name": "ipython",
    "version": 2
   },
   "file_extension": ".py",
   "mimetype": "text/x-python",
   "name": "python",
   "nbconvert_exporter": "python",
   "pygments_lexer": "ipython2",
   "version": "2.7.11"
  }
 },
 "nbformat": 4,
 "nbformat_minor": 0
}
